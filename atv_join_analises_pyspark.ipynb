{
  "nbformat": 4,
  "nbformat_minor": 0,
  "metadata": {
    "colab": {
      "provenance": []
    },
    "kernelspec": {
      "name": "python3",
      "display_name": "Python 3"
    },
    "language_info": {
      "name": "python"
    }
  },
  "cells": [
    {
      "cell_type": "code",
      "execution_count": null,
      "metadata": {
        "colab": {
          "base_uri": "https://localhost:8080/"
        },
        "id": "Bm2i4avEx5-J",
        "outputId": "c24629a1-df67-4562-f5dc-a716ddf028fe"
      },
      "outputs": [
        {
          "output_type": "stream",
          "name": "stdout",
          "text": [
            "Looking in indexes: https://pypi.org/simple, https://us-python.pkg.dev/colab-wheels/public/simple/\n",
            "Collecting pyspark\n",
            "  Downloading pyspark-3.4.0.tar.gz (310.8 MB)\n",
            "\u001b[2K     \u001b[90m━━━━━━━━━━━━━━━━━━━━━━━━━━━━━━━━━━━━━━━\u001b[0m \u001b[32m310.8/310.8 MB\u001b[0m \u001b[31m3.4 MB/s\u001b[0m eta \u001b[36m0:00:00\u001b[0m\n",
            "\u001b[?25h  Preparing metadata (setup.py) ... \u001b[?25l\u001b[?25hdone\n",
            "Requirement already satisfied: py4j==0.10.9.7 in /usr/local/lib/python3.9/dist-packages (from pyspark) (0.10.9.7)\n",
            "Building wheels for collected packages: pyspark\n",
            "  Building wheel for pyspark (setup.py) ... \u001b[?25l\u001b[?25hdone\n",
            "  Created wheel for pyspark: filename=pyspark-3.4.0-py2.py3-none-any.whl size=311317145 sha256=1f9519316e8eaee11a6f8bfb497a0e6fc3c8e01151c0667d6a27cb23f02ea839\n",
            "  Stored in directory: /root/.cache/pip/wheels/9f/34/a4/159aa12d0a510d5ff7c8f0220abbea42e5d81ecf588c4fd884\n",
            "Successfully built pyspark\n",
            "Installing collected packages: pyspark\n",
            "Successfully installed pyspark-3.4.0\n"
          ]
        }
      ],
      "source": [
        "!pip install pyspark"
      ]
    },
    {
      "cell_type": "code",
      "source": [
        "from pyspark.sql import SparkSession\n",
        "import pyspark.sql.functions as F\n",
        "import pandas as pd\n",
        "import numpy as np\n",
        "import matplotlib.pyplot as plt"
      ],
      "metadata": {
        "id": "Md_2UBqOx_Qh"
      },
      "execution_count": null,
      "outputs": []
    },
    {
      "cell_type": "code",
      "source": [
        "\n",
        "from google.colab import drive\n",
        "drive.mount('/content/drive')"
      ],
      "metadata": {
        "colab": {
          "base_uri": "https://localhost:8080/"
        },
        "id": "i8kSJKGZyDZX",
        "outputId": "017b00f0-1f32-4665-b967-ea461b178ac9"
      },
      "execution_count": null,
      "outputs": [
        {
          "output_type": "stream",
          "name": "stdout",
          "text": [
            "Mounted at /content/drive\n"
          ]
        }
      ]
    },
    {
      "cell_type": "code",
      "source": [
        "#CONFIGURAR A SESSÃO SPARK\n",
        "spark = (SparkSession.builder\n",
        "                     .master('local')\n",
        "                     .appName('Analise_MBA')\n",
        "                     .config('spark.ui.port', '4050')\n",
        "                     .getOrCreate())"
      ],
      "metadata": {
        "id": "d_vAjdWwyHmE"
      },
      "execution_count": null,
      "outputs": []
    },
    {
      "cell_type": "code",
      "source": [
        "spark"
      ],
      "metadata": {
        "colab": {
          "base_uri": "https://localhost:8080/",
          "height": 222
        },
        "id": "IaUtnWDG2I_8",
        "outputId": "690a7136-542b-4e86-9407-d09b8cb9df90"
      },
      "execution_count": null,
      "outputs": [
        {
          "output_type": "execute_result",
          "data": {
            "text/plain": [
              "<pyspark.sql.session.SparkSession at 0x7f3eee945d90>"
            ],
            "text/html": [
              "\n",
              "            <div>\n",
              "                <p><b>SparkSession - in-memory</b></p>\n",
              "                \n",
              "        <div>\n",
              "            <p><b>SparkContext</b></p>\n",
              "\n",
              "            <p><a href=\"http://039576d030cf:4050\">Spark UI</a></p>\n",
              "\n",
              "            <dl>\n",
              "              <dt>Version</dt>\n",
              "                <dd><code>v3.4.0</code></dd>\n",
              "              <dt>Master</dt>\n",
              "                <dd><code>local</code></dd>\n",
              "              <dt>AppName</dt>\n",
              "                <dd><code>Analise_MBA</code></dd>\n",
              "            </dl>\n",
              "        </div>\n",
              "        \n",
              "            </div>\n",
              "        "
            ]
          },
          "metadata": {},
          "execution_count": 5
        }
      ]
    },
    {
      "cell_type": "code",
      "source": [
        "df_aisles = (spark.read.format('csv')\n",
        "                       .option('delimiter', ',')\n",
        "                       .option('header', 'true')\n",
        "                       .option('inferschema', 'true')\n",
        "                       .load('/content/drive/MyDrive/Join/aisles.csv'))"
      ],
      "metadata": {
        "id": "EGsYybJFyLxh"
      },
      "execution_count": null,
      "outputs": []
    },
    {
      "cell_type": "code",
      "source": [
        "df_products_prior = (spark.read.format('csv')\n",
        "                       .option('delimiter', ',')\n",
        "                       .option('header', 'true')\n",
        "                       .option('inferschema', 'true')\n",
        "                       .load('/content/drive/MyDrive/Join/order_products__prior.csv'))"
      ],
      "metadata": {
        "id": "tYnrnRzi9okX"
      },
      "execution_count": null,
      "outputs": []
    },
    {
      "cell_type": "code",
      "source": [
        "df_products = (spark.read.format('csv')\n",
        "                       .option('delimiter', ',')\n",
        "                       .option('header', 'true')\n",
        "                       .option('inferschema', 'true')\n",
        "                       .load('/content/drive/MyDrive/Join/products.csv'))"
      ],
      "metadata": {
        "id": "nXO-gf0syf4q"
      },
      "execution_count": null,
      "outputs": []
    },
    {
      "cell_type": "code",
      "source": [
        "df_departments = (spark.read.format('csv')\n",
        "                       .option('delimiter', ',')\n",
        "                       .option('header', 'true')\n",
        "                       .option('inferschema', 'true')\n",
        "                       .load('/content/drive/MyDrive/Join/departments.csv'))"
      ],
      "metadata": {
        "id": "TM3F_VB8_gFQ"
      },
      "execution_count": null,
      "outputs": []
    },
    {
      "cell_type": "code",
      "source": [
        "df_orders = (spark.read.format('csv')\n",
        "                       .option('delimiter', ',')\n",
        "                       .option('header', 'true')\n",
        "                       .option('inferschema', 'true')\n",
        "                       .load('/content/drive/MyDrive/Join/orders.csv'))"
      ],
      "metadata": {
        "id": "qd8NotOd9hDR"
      },
      "execution_count": null,
      "outputs": []
    },
    {
      "cell_type": "code",
      "source": [
        "df_departments.show(3)"
      ],
      "metadata": {
        "colab": {
          "base_uri": "https://localhost:8080/"
        },
        "id": "cCn36ZwdCcEF",
        "outputId": "c2cf8916-488a-47b3-e6a5-c7e231418fba"
      },
      "execution_count": null,
      "outputs": [
        {
          "output_type": "stream",
          "name": "stdout",
          "text": [
            "+-------------+----------+\n",
            "|department_id|department|\n",
            "+-------------+----------+\n",
            "|            1|    frozen|\n",
            "|            2|     other|\n",
            "|            3|    bakery|\n",
            "+-------------+----------+\n",
            "only showing top 3 rows\n",
            "\n"
          ]
        }
      ]
    },
    {
      "cell_type": "code",
      "source": [
        "df_departments.count()"
      ],
      "metadata": {
        "colab": {
          "base_uri": "https://localhost:8080/"
        },
        "id": "NNq7S-vtCqAW",
        "outputId": "b4564729-a7c8-486b-9a7b-6ed22f5f7141"
      },
      "execution_count": null,
      "outputs": [
        {
          "output_type": "execute_result",
          "data": {
            "text/plain": [
              "21"
            ]
          },
          "metadata": {},
          "execution_count": 12
        }
      ]
    },
    {
      "cell_type": "code",
      "source": [
        "df_departments.show()"
      ],
      "metadata": {
        "colab": {
          "base_uri": "https://localhost:8080/"
        },
        "id": "yMQhKNLv6mVb",
        "outputId": "e2771c91-705f-43c7-cb74-ac06278135c8"
      },
      "execution_count": null,
      "outputs": [
        {
          "output_type": "stream",
          "name": "stdout",
          "text": [
            "+-------------+---------------+\n",
            "|department_id|     department|\n",
            "+-------------+---------------+\n",
            "|            1|         frozen|\n",
            "|            2|          other|\n",
            "|            3|         bakery|\n",
            "|            4|        produce|\n",
            "|            5|        alcohol|\n",
            "|            6|  international|\n",
            "|            7|      beverages|\n",
            "|            8|           pets|\n",
            "|            9|dry goods pasta|\n",
            "|           10|           bulk|\n",
            "|           11|  personal care|\n",
            "|           12|   meat seafood|\n",
            "|           13|         pantry|\n",
            "|           14|      breakfast|\n",
            "|           15|   canned goods|\n",
            "|           16|     dairy eggs|\n",
            "|           17|      household|\n",
            "|           18|         babies|\n",
            "|           19|         snacks|\n",
            "|           20|           deli|\n",
            "+-------------+---------------+\n",
            "only showing top 20 rows\n",
            "\n"
          ]
        }
      ]
    },
    {
      "cell_type": "code",
      "source": [
        "df_orders.count()"
      ],
      "metadata": {
        "colab": {
          "base_uri": "https://localhost:8080/"
        },
        "id": "_MH3QamrAvpE",
        "outputId": "55c0bb32-a35d-44c6-f4c6-5ad3f9caa855"
      },
      "execution_count": null,
      "outputs": [
        {
          "output_type": "execute_result",
          "data": {
            "text/plain": [
              "3421083"
            ]
          },
          "metadata": {},
          "execution_count": 14
        }
      ]
    },
    {
      "cell_type": "code",
      "source": [
        "df_orders.show(3)"
      ],
      "metadata": {
        "colab": {
          "base_uri": "https://localhost:8080/"
        },
        "id": "8J-UQ6UUCw7I",
        "outputId": "a75d22ca-6ba9-403f-9669-9e60434d6190"
      },
      "execution_count": null,
      "outputs": [
        {
          "output_type": "stream",
          "name": "stdout",
          "text": [
            "+--------+-------+--------+------------+---------+-----------------+----------------------+\n",
            "|order_id|user_id|eval_set|order_number|order_dow|order_hour_of_day|days_since_prior_order|\n",
            "+--------+-------+--------+------------+---------+-----------------+----------------------+\n",
            "| 2539329|      1|   prior|           1|        2|                8|                  null|\n",
            "| 2398795|      1|   prior|           2|        3|                7|                  15.0|\n",
            "|  473747|      1|   prior|           3|        3|               12|                  21.0|\n",
            "+--------+-------+--------+------------+---------+-----------------+----------------------+\n",
            "only showing top 3 rows\n",
            "\n"
          ]
        }
      ]
    },
    {
      "cell_type": "code",
      "source": [
        "df_products_prior.show(3)"
      ],
      "metadata": {
        "colab": {
          "base_uri": "https://localhost:8080/"
        },
        "id": "NPHy-HRnEdS7",
        "outputId": "20287ab8-cb84-4f40-e80c-b9ec24b7bff0"
      },
      "execution_count": null,
      "outputs": [
        {
          "output_type": "stream",
          "name": "stdout",
          "text": [
            "+--------+----------+-----------------+---------+\n",
            "|order_id|product_id|add_to_cart_order|reordered|\n",
            "+--------+----------+-----------------+---------+\n",
            "|       2|     33120|                1|        1|\n",
            "|       2|     28985|                2|        1|\n",
            "|       2|      9327|                3|        0|\n",
            "+--------+----------+-----------------+---------+\n",
            "only showing top 3 rows\n",
            "\n"
          ]
        }
      ]
    },
    {
      "cell_type": "code",
      "source": [
        "df_aisles.show(5, truncate=False)"
      ],
      "metadata": {
        "colab": {
          "base_uri": "https://localhost:8080/"
        },
        "id": "sBAdyicY7K0Z",
        "outputId": "94718b17-b232-43db-e489-4c2819ed517c"
      },
      "execution_count": null,
      "outputs": [
        {
          "output_type": "stream",
          "name": "stdout",
          "text": [
            "+--------+--------------------------+\n",
            "|aisle_id|aisle                     |\n",
            "+--------+--------------------------+\n",
            "|1       |prepared soups salads     |\n",
            "|2       |specialty cheeses         |\n",
            "|3       |energy granola bars       |\n",
            "|4       |instant foods             |\n",
            "|5       |marinades meat preparation|\n",
            "+--------+--------------------------+\n",
            "only showing top 5 rows\n",
            "\n"
          ]
        }
      ]
    },
    {
      "cell_type": "code",
      "source": [
        "df_products.show(5, truncate=False)"
      ],
      "metadata": {
        "colab": {
          "base_uri": "https://localhost:8080/"
        },
        "id": "313N61ZW8UXM",
        "outputId": "1aeb7c35-ca9a-49f0-fd68-0bbe3e6f281a"
      },
      "execution_count": null,
      "outputs": [
        {
          "output_type": "stream",
          "name": "stdout",
          "text": [
            "+----------+-----------------------------------------------------------------+--------+-------------+\n",
            "|product_id|product_name                                                     |aisle_id|department_id|\n",
            "+----------+-----------------------------------------------------------------+--------+-------------+\n",
            "|1         |Chocolate Sandwich Cookies                                       |61      |19           |\n",
            "|2         |All-Seasons Salt                                                 |104     |13           |\n",
            "|3         |Robust Golden Unsweetened Oolong Tea                             |94      |7            |\n",
            "|4         |Smart Ones Classic Favorites Mini Rigatoni With Vodka Cream Sauce|38      |1            |\n",
            "|5         |Green Chile Anytime Sauce                                        |5       |13           |\n",
            "+----------+-----------------------------------------------------------------+--------+-------------+\n",
            "only showing top 5 rows\n",
            "\n"
          ]
        }
      ]
    },
    {
      "cell_type": "code",
      "source": [
        "df_backup = df_products_prior"
      ],
      "metadata": {
        "id": "gn9PeHfn_s1V"
      },
      "execution_count": null,
      "outputs": []
    },
    {
      "cell_type": "code",
      "source": [
        "df_products_prior = df_products_prior.dropna(how='any')"
      ],
      "metadata": {
        "id": "8dndmpBPARvj"
      },
      "execution_count": null,
      "outputs": []
    },
    {
      "cell_type": "code",
      "source": [
        "df_products_prior.select([F.count(F.when(F.isnan(c) | F.col(c).isNull(), c)).alias(c) for c in df_products_prior.columns]).show()"
      ],
      "metadata": {
        "colab": {
          "base_uri": "https://localhost:8080/"
        },
        "id": "kG2l8S2zFr8h",
        "outputId": "76625232-48b4-4fef-ade0-c2b7cbdbb32b"
      },
      "execution_count": null,
      "outputs": [
        {
          "output_type": "stream",
          "name": "stdout",
          "text": [
            "+--------+----------+-----------------+---------+\n",
            "|order_id|product_id|add_to_cart_order|reordered|\n",
            "+--------+----------+-----------------+---------+\n",
            "|       0|         0|                0|        0|\n",
            "+--------+----------+-----------------+---------+\n",
            "\n"
          ]
        }
      ]
    },
    {
      "cell_type": "code",
      "source": [
        "df_products_prior.printSchema()"
      ],
      "metadata": {
        "colab": {
          "base_uri": "https://localhost:8080/"
        },
        "id": "olHVF5YcThCf",
        "outputId": "ed6a3cab-4ae5-4ea6-d11e-58cb7e1121d9"
      },
      "execution_count": null,
      "outputs": [
        {
          "output_type": "stream",
          "name": "stdout",
          "text": [
            "root\n",
            " |-- order_id: integer (nullable = true)\n",
            " |-- product_id: integer (nullable = true)\n",
            " |-- add_to_cart_order: integer (nullable = true)\n",
            " |-- reordered: integer (nullable = true)\n",
            "\n"
          ]
        }
      ]
    },
    {
      "cell_type": "code",
      "source": [
        "df_orders.select([F.count(F.when(F.isnan(c) | F.col(c).isNull(), c)).alias(c) for c in df_orders.columns]).show()"
      ],
      "metadata": {
        "colab": {
          "base_uri": "https://localhost:8080/"
        },
        "id": "HB9nsvfVJRpW",
        "outputId": "b7f13ce9-ec92-45a1-ac6c-17902c11949e"
      },
      "execution_count": null,
      "outputs": [
        {
          "output_type": "stream",
          "name": "stdout",
          "text": [
            "+--------+-------+--------+------------+---------+-----------------+----------------------+\n",
            "|order_id|user_id|eval_set|order_number|order_dow|order_hour_of_day|days_since_prior_order|\n",
            "+--------+-------+--------+------------+---------+-----------------+----------------------+\n",
            "|       0|      0|       0|           0|        0|                0|                206209|\n",
            "+--------+-------+--------+------------+---------+-----------------+----------------------+\n",
            "\n"
          ]
        }
      ]
    },
    {
      "cell_type": "code",
      "source": [
        "df_products_prior = df_backup"
      ],
      "metadata": {
        "id": "HTBTEWhJXH1g"
      },
      "execution_count": null,
      "outputs": []
    },
    {
      "cell_type": "code",
      "source": [
        "df_products_prior = df_products_prior.withColumn('pedido_anteriormente', F.regexp_replace(F.col('reordered'), '1', \"Sim\"))"
      ],
      "metadata": {
        "id": "5AdldUXuRnUR"
      },
      "execution_count": null,
      "outputs": []
    },
    {
      "cell_type": "code",
      "source": [
        "df_products_prior = df_products_prior.withColumn('pedido_anteriormente', F.regexp_replace(F.col('pedido_anteriormente'), '0', \"Nao\"))"
      ],
      "metadata": {
        "id": "DEb2799HVxue"
      },
      "execution_count": null,
      "outputs": []
    },
    {
      "cell_type": "code",
      "source": [
        "df_products_prior.show()"
      ],
      "metadata": {
        "colab": {
          "base_uri": "https://localhost:8080/"
        },
        "id": "bGJBWZLdWD6g",
        "outputId": "185e9f12-bc65-47fc-b305-b52debba3f47"
      },
      "execution_count": null,
      "outputs": [
        {
          "output_type": "stream",
          "name": "stdout",
          "text": [
            "+--------+----------+-----------------+---------+--------------------+\n",
            "|order_id|product_id|add_to_cart_order|reordered|pedido_anteriormente|\n",
            "+--------+----------+-----------------+---------+--------------------+\n",
            "|       2|     33120|                1|        1|                 Sim|\n",
            "|       2|     28985|                2|        1|                 Sim|\n",
            "|       2|      9327|                3|        0|                 Nao|\n",
            "|       2|     45918|                4|        1|                 Sim|\n",
            "|       2|     30035|                5|        0|                 Nao|\n",
            "|       2|     17794|                6|        1|                 Sim|\n",
            "|       2|     40141|                7|        1|                 Sim|\n",
            "|       2|      1819|                8|        1|                 Sim|\n",
            "|       2|     43668|                9|        0|                 Nao|\n",
            "|       3|     33754|                1|        1|                 Sim|\n",
            "|       3|     24838|                2|        1|                 Sim|\n",
            "|       3|     17704|                3|        1|                 Sim|\n",
            "|       3|     21903|                4|        1|                 Sim|\n",
            "|       3|     17668|                5|        1|                 Sim|\n",
            "|       3|     46667|                6|        1|                 Sim|\n",
            "|       3|     17461|                7|        1|                 Sim|\n",
            "|       3|     32665|                8|        1|                 Sim|\n",
            "|       4|     46842|                1|        0|                 Nao|\n",
            "|       4|     26434|                2|        1|                 Sim|\n",
            "|       4|     39758|                3|        1|                 Sim|\n",
            "+--------+----------+-----------------+---------+--------------------+\n",
            "only showing top 20 rows\n",
            "\n"
          ]
        }
      ]
    },
    {
      "cell_type": "code",
      "source": [
        "# 1º JOIN - df_order_product_prior com order\n",
        "df_join = df_products_prior.join(df_orders, on=['order_id'], how='left')"
      ],
      "metadata": {
        "id": "lJJoJ7MRAZll"
      },
      "execution_count": null,
      "outputs": []
    },
    {
      "cell_type": "code",
      "source": [
        "df_join.select('*').orderBy(F.col('order_id').desc()).show(5)"
      ],
      "metadata": {
        "colab": {
          "base_uri": "https://localhost:8080/"
        },
        "id": "rW5FlUeJAFWW",
        "outputId": "381225e7-a5e3-49d2-e13e-c21331447456"
      },
      "execution_count": null,
      "outputs": [
        {
          "output_type": "stream",
          "name": "stdout",
          "text": [
            "+--------+----------+-----------------+---------+--------------------+-------+--------+------------+---------+-----------------+----------------------+\n",
            "|order_id|product_id|add_to_cart_order|reordered|pedido_anteriormente|user_id|eval_set|order_number|order_dow|order_hour_of_day|days_since_prior_order|\n",
            "+--------+----------+-----------------+---------+--------------------+-------+--------+------------+---------+-----------------+----------------------+\n",
            "|  807691|     42450|                1|        1|                 Sim| 128790|   prior|          41|        6|               10|                   4.0|\n",
            "|  807691|     25186|                2|        1|                 Sim| 128790|   prior|          41|        6|               10|                   4.0|\n",
            "|  807691|     33071|                3|        1|                 Sim| 128790|   prior|          41|        6|               10|                   4.0|\n",
            "|  807691|     16291|                4|        1|                 Sim| 128790|   prior|          41|        6|               10|                   4.0|\n",
            "|  807690|     27966|                1|        1|                 Sim| 142869|   prior|          62|        3|                9|                   6.0|\n",
            "+--------+----------+-----------------+---------+--------------------+-------+--------+------------+---------+-----------------+----------------------+\n",
            "only showing top 5 rows\n",
            "\n"
          ]
        }
      ]
    },
    {
      "cell_type": "code",
      "source": [
        "df_join.select([F.count(F.when(F.isnan(c) | F.col(c).isNull(), c)).alias(c) for c in df_join.columns]).show()"
      ],
      "metadata": {
        "colab": {
          "base_uri": "https://localhost:8080/"
        },
        "id": "Ea4Rs77nGKVq",
        "outputId": "fa73cae9-7140-49a5-df6f-d460cb394d17"
      },
      "execution_count": null,
      "outputs": [
        {
          "output_type": "stream",
          "name": "stdout",
          "text": [
            "+--------+----------+-----------------+---------+--------------------+-------+--------+------------+---------+-----------------+----------------------+\n",
            "|order_id|product_id|add_to_cart_order|reordered|pedido_anteriormente|user_id|eval_set|order_number|order_dow|order_hour_of_day|days_since_prior_order|\n",
            "+--------+----------+-----------------+---------+--------------------+-------+--------+------------+---------+-----------------+----------------------+\n",
            "|       0|         1|                1|        1|                   1|      0|       0|           0|        0|                0|                491677|\n",
            "+--------+----------+-----------------+---------+--------------------+-------+--------+------------+---------+-----------------+----------------------+\n",
            "\n"
          ]
        }
      ]
    },
    {
      "cell_type": "code",
      "source": [
        "df_products.show(5)"
      ],
      "metadata": {
        "colab": {
          "base_uri": "https://localhost:8080/"
        },
        "id": "BPITKH0lFR0R",
        "outputId": "74da6e64-5594-469a-d736-7c68a77d2fd5"
      },
      "execution_count": null,
      "outputs": [
        {
          "output_type": "stream",
          "name": "stdout",
          "text": [
            "+----------+--------------------+--------+-------------+\n",
            "|product_id|        product_name|aisle_id|department_id|\n",
            "+----------+--------------------+--------+-------------+\n",
            "|         1|Chocolate Sandwic...|      61|           19|\n",
            "|         2|    All-Seasons Salt|     104|           13|\n",
            "|         3|Robust Golden Uns...|      94|            7|\n",
            "|         4|Smart Ones Classi...|      38|            1|\n",
            "|         5|Green Chile Anyti...|       5|           13|\n",
            "+----------+--------------------+--------+-------------+\n",
            "only showing top 5 rows\n",
            "\n"
          ]
        }
      ]
    },
    {
      "cell_type": "code",
      "source": [
        "# 2º JOIN df_joincom product\n",
        "df_join = df_join.join(df_products, on=['product_id'], how='left')"
      ],
      "metadata": {
        "id": "X9og4og5Ai1p"
      },
      "execution_count": null,
      "outputs": []
    },
    {
      "cell_type": "code",
      "source": [
        "# 3º JOIN df_join com aisles\n",
        "df_join = df_join.join(df_aisles, on=['aisle_id'], how='left')"
      ],
      "metadata": {
        "id": "MbZC8882FfIs"
      },
      "execution_count": null,
      "outputs": []
    },
    {
      "cell_type": "code",
      "source": [
        "#4º JOIN df_join com department\n",
        "df_join = df_join.join(df_departments, on=['department_id'], how='left')"
      ],
      "metadata": {
        "id": "A2eWWGoMFkHP"
      },
      "execution_count": null,
      "outputs": []
    },
    {
      "cell_type": "code",
      "source": [
        "df_join.printSchema()"
      ],
      "metadata": {
        "colab": {
          "base_uri": "https://localhost:8080/"
        },
        "id": "kW-qf130Fmdh",
        "outputId": "4dde0497-dbce-41ae-90d6-4dbabbb276af"
      },
      "execution_count": null,
      "outputs": [
        {
          "output_type": "stream",
          "name": "stdout",
          "text": [
            "root\n",
            " |-- department_id: string (nullable = true)\n",
            " |-- aisle_id: string (nullable = true)\n",
            " |-- product_id: integer (nullable = true)\n",
            " |-- order_id: integer (nullable = true)\n",
            " |-- add_to_cart_order: integer (nullable = true)\n",
            " |-- reordered: integer (nullable = true)\n",
            " |-- pedido_anteriormente: string (nullable = true)\n",
            " |-- user_id: integer (nullable = true)\n",
            " |-- eval_set: string (nullable = true)\n",
            " |-- order_number: integer (nullable = true)\n",
            " |-- order_dow: integer (nullable = true)\n",
            " |-- order_hour_of_day: integer (nullable = true)\n",
            " |-- days_since_prior_order: double (nullable = true)\n",
            " |-- product_name: string (nullable = true)\n",
            " |-- aisle: string (nullable = true)\n",
            " |-- department: string (nullable = true)\n",
            "\n"
          ]
        }
      ]
    },
    {
      "cell_type": "code",
      "source": [
        "df_join.show()"
      ],
      "metadata": {
        "colab": {
          "base_uri": "https://localhost:8080/"
        },
        "id": "HfMGqCfuFo4j",
        "outputId": "90026494-c0d7-4d4e-e8fa-4c5bff502dd9"
      },
      "execution_count": null,
      "outputs": [
        {
          "output_type": "stream",
          "name": "stdout",
          "text": [
            "+-------------+--------+----------+--------+-----------------+---------+--------------------+-------+--------+------------+---------+-----------------+----------------------+--------------------+--------------------+-------------+\n",
            "|department_id|aisle_id|product_id|order_id|add_to_cart_order|reordered|pedido_anteriormente|user_id|eval_set|order_number|order_dow|order_hour_of_day|days_since_prior_order|        product_name|               aisle|   department|\n",
            "+-------------+--------+----------+--------+-----------------+---------+--------------------+-------+--------+------------+---------+-----------------+----------------------+--------------------+--------------------+-------------+\n",
            "|           16|     120|     33754|       3|                1|        1|                 Sim| 205970|   prior|          16|        5|               17|                  12.0|Total 2% with Str...|              yogurt|   dairy eggs|\n",
            "|           16|      91|     24838|       3|                2|        1|                 Sim| 205970|   prior|          16|        5|               17|                  12.0|Unsweetened Almon...|     soy lactosefree|   dairy eggs|\n",
            "|            4|     123|     17704|       3|                3|        1|                 Sim| 205970|   prior|          16|        5|               17|                  12.0|              Lemons|packaged vegetabl...|      produce|\n",
            "|            4|     123|     21903|       3|                4|        1|                 Sim| 205970|   prior|          16|        5|               17|                  12.0|Organic Baby Spinach|packaged vegetabl...|      produce|\n",
            "|           16|      91|     17668|       3|                5|        1|                 Sim| 205970|   prior|          16|        5|               17|                  12.0|Unsweetened Choco...|     soy lactosefree|   dairy eggs|\n",
            "|            4|      83|     46667|       3|                6|        1|                 Sim| 205970|   prior|          16|        5|               17|                  12.0| Organic Ginger Root|    fresh vegetables|      produce|\n",
            "|           12|      35|     17461|       3|                7|        1|                 Sim| 205970|   prior|          16|        5|               17|                  12.0|Air Chilled Organ...|     poultry counter| meat seafood|\n",
            "|            3|     112|     32665|       3|                8|        1|                 Sim| 205970|   prior|          16|        5|               17|                  12.0|Organic Ezekiel 4...|               bread|       bakery|\n",
            "|            3|      93|     46842|       4|                1|        0|                 Nao| 178520|   prior|          36|        1|                9|                   7.0|Plain Pre-Sliced ...|    breakfast bakery|       bakery|\n",
            "|           11|      11|     26434|       4|                2|        1|                 Sim| 178520|   prior|          36|        1|                9|                   7.0|Honey/Lemon Cough...|    cold flu allergy|personal care|\n",
            "|           19|       3|     39758|       4|                3|        1|                 Sim| 178520|   prior|          36|        1|                9|                   7.0|Chewy 25% Low Sug...| energy granola bars|       snacks|\n",
            "|           14|      48|     27761|       4|                4|        1|                 Sim| 178520|   prior|          36|        1|                9|                   7.0|Oats & Chocolate ...|breakfast bars pa...|    breakfast|\n",
            "|           16|      86|     33120|       2|                1|        1|                 Sim| 202279|   prior|           3|        5|                9|                   8.0|  Organic Egg Whites|                eggs|   dairy eggs|\n",
            "|            4|      83|     28985|       2|                2|        1|                 Sim| 202279|   prior|           3|        5|                9|                   8.0|Michigan Organic ...|    fresh vegetables|      produce|\n",
            "|           13|     104|      9327|       2|                3|        0|                 Nao| 202279|   prior|           3|        5|                9|                   8.0|       Garlic Powder|   spices seasonings|       pantry|\n",
            "|           13|      19|     45918|       2|                4|        1|                 Sim| 202279|   prior|           3|        5|                9|                   8.0|      Coconut Butter|       oils vinegars|       pantry|\n",
            "|           13|      17|     30035|       2|                5|        0|                 Nao| 202279|   prior|           3|        5|                9|                   8.0|   Natural Sweetener|  baking ingredients|       pantry|\n",
            "|            4|      83|     17794|       2|                6|        1|                 Sim| 202279|   prior|           3|        5|                9|                   8.0|             Carrots|    fresh vegetables|      produce|\n",
            "|           13|     105|     40141|       2|                7|        1|                 Sim| 202279|   prior|           3|        5|                9|                   8.0|Original Unflavor...|doughs gelatins b...|       pantry|\n",
            "|           13|      88|      1819|       2|                8|        1|                 Sim| 202279|   prior|           3|        5|                9|                   8.0|All Natural No St...|             spreads|       pantry|\n",
            "+-------------+--------+----------+--------+-----------------+---------+--------------------+-------+--------+------------+---------+-----------------+----------------------+--------------------+--------------------+-------------+\n",
            "only showing top 20 rows\n",
            "\n"
          ]
        }
      ]
    },
    {
      "cell_type": "code",
      "source": [
        "#EXISTEM VALORES NULOS NOS DATAFRAMES?\n",
        "df_join.select([F.count(F.when(F.isnan(c) | F.col(c).isNull(), c)).alias(c) for c in df_join.columns]).show()"
      ],
      "metadata": {
        "colab": {
          "base_uri": "https://localhost:8080/"
        },
        "id": "4izxgNSHFr6O",
        "outputId": "d2cb6064-10c5-489c-dd87-07a1eed8883b"
      },
      "execution_count": null,
      "outputs": [
        {
          "output_type": "stream",
          "name": "stdout",
          "text": [
            "+-------------+--------+----------+--------+-----------------+---------+--------------------+-------+--------+------------+---------+-----------------+----------------------+------------+-----+----------+\n",
            "|department_id|aisle_id|product_id|order_id|add_to_cart_order|reordered|pedido_anteriormente|user_id|eval_set|order_number|order_dow|order_hour_of_day|days_since_prior_order|product_name|aisle|department|\n",
            "+-------------+--------+----------+--------+-----------------+---------+--------------------+-------+--------+------------+---------+-----------------+----------------------+------------+-----+----------+\n",
            "|            1|       1|         1|       0|                1|        1|                   1|      0|       0|           0|        0|                0|                491677|           1|    2|         2|\n",
            "+-------------+--------+----------+--------+-----------------+---------+--------------------+-------+--------+------------+---------+-----------------+----------------------+------------+-----+----------+\n",
            "\n"
          ]
        }
      ]
    },
    {
      "cell_type": "code",
      "source": [
        "df_products_prior.show(3)"
      ],
      "metadata": {
        "colab": {
          "base_uri": "https://localhost:8080/"
        },
        "id": "8GdRo58vGam9",
        "outputId": "c9c96171-a60b-41f6-b44f-3016c479e4fb"
      },
      "execution_count": null,
      "outputs": [
        {
          "output_type": "stream",
          "name": "stdout",
          "text": [
            "+--------+----------+-----------------+---------+--------------------+\n",
            "|order_id|product_id|add_to_cart_order|reordered|pedido_anteriormente|\n",
            "+--------+----------+-----------------+---------+--------------------+\n",
            "|       2|     33120|                1|        1|                 Sim|\n",
            "|       2|     28985|                2|        1|                 Sim|\n",
            "|       2|      9327|                3|        0|                 Nao|\n",
            "+--------+----------+-----------------+---------+--------------------+\n",
            "only showing top 3 rows\n",
            "\n"
          ]
        }
      ]
    },
    {
      "cell_type": "code",
      "source": [
        "df_products.show(3)"
      ],
      "metadata": {
        "colab": {
          "base_uri": "https://localhost:8080/"
        },
        "id": "5wsN1txLHo4g",
        "outputId": "8a557238-4f27-4ffc-af28-a1c444ac75fd"
      },
      "execution_count": null,
      "outputs": [
        {
          "output_type": "stream",
          "name": "stdout",
          "text": [
            "+----------+--------------------+--------+-------------+\n",
            "|product_id|        product_name|aisle_id|department_id|\n",
            "+----------+--------------------+--------+-------------+\n",
            "|         1|Chocolate Sandwic...|      61|           19|\n",
            "|         2|    All-Seasons Salt|     104|           13|\n",
            "|         3|Robust Golden Uns...|      94|            7|\n",
            "+----------+--------------------+--------+-------------+\n",
            "only showing top 3 rows\n",
            "\n"
          ]
        }
      ]
    },
    {
      "cell_type": "code",
      "source": [
        "df_aisles.show(3)"
      ],
      "metadata": {
        "colab": {
          "base_uri": "https://localhost:8080/"
        },
        "id": "IS4WfBtiHt_O",
        "outputId": "c9494454-69bd-4dc0-d539-2f9d3a6ad41b"
      },
      "execution_count": null,
      "outputs": [
        {
          "output_type": "stream",
          "name": "stdout",
          "text": [
            "+--------+--------------------+\n",
            "|aisle_id|               aisle|\n",
            "+--------+--------------------+\n",
            "|       1|prepared soups sa...|\n",
            "|       2|   specialty cheeses|\n",
            "|       3| energy granola bars|\n",
            "+--------+--------------------+\n",
            "only showing top 3 rows\n",
            "\n"
          ]
        }
      ]
    },
    {
      "cell_type": "code",
      "source": [
        "df_orders.show(3)"
      ],
      "metadata": {
        "colab": {
          "base_uri": "https://localhost:8080/"
        },
        "id": "FyQKOjRMHxgY",
        "outputId": "2645fc64-2eac-46c5-d7bf-91f81b5286a1"
      },
      "execution_count": null,
      "outputs": [
        {
          "output_type": "stream",
          "name": "stdout",
          "text": [
            "+--------+-------+--------+------------+---------+-----------------+----------------------+\n",
            "|order_id|user_id|eval_set|order_number|order_dow|order_hour_of_day|days_since_prior_order|\n",
            "+--------+-------+--------+------------+---------+-----------------+----------------------+\n",
            "| 2539329|      1|   prior|           1|        2|                8|                  null|\n",
            "| 2398795|      1|   prior|           2|        3|                7|                  15.0|\n",
            "|  473747|      1|   prior|           3|        3|               12|                  21.0|\n",
            "+--------+-------+--------+------------+---------+-----------------+----------------------+\n",
            "only showing top 3 rows\n",
            "\n"
          ]
        }
      ]
    },
    {
      "cell_type": "code",
      "source": [
        "#DROPAR O ÚNICO REGISTRO QUE POSSUI DADOS NULOS EM AISLE E DEPARTMENT\n",
        "df_join = df_join.dropna(how='any', subset='aisle')\n",
        "df_join = df_join.dropna(how='any', subset='department')"
      ],
      "metadata": {
        "id": "NGc0oLTaH4Tf"
      },
      "execution_count": null,
      "outputs": []
    },
    {
      "cell_type": "code",
      "source": [
        "#CALCULAR O PERCENTUAL DE VALORES AUSENTES NA COLUNA days_since_prior_order\n",
        "media = (df_join.filter(F.col('days_since_prior_order').isNull() | F.isnan(F.col('days_since_prior_order'))).count() / df_join.select('days_since_prior_order').count() * 100)\n",
        "\n",
        "print(media)"
      ],
      "metadata": {
        "colab": {
          "base_uri": "https://localhost:8080/"
        },
        "id": "dpimKo9MIKzm",
        "outputId": "fd0cc936-fb95-4321-f778-c3922268174f"
      },
      "execution_count": null,
      "outputs": [
        {
          "output_type": "stream",
          "name": "stdout",
          "text": [
            "6.426013804355909\n"
          ]
        }
      ]
    },
    {
      "cell_type": "code",
      "source": [
        "df = df_join"
      ],
      "metadata": {
        "id": "hMB5M-iCGW6T"
      },
      "execution_count": null,
      "outputs": []
    },
    {
      "cell_type": "code",
      "source": [
        "df.show()"
      ],
      "metadata": {
        "colab": {
          "base_uri": "https://localhost:8080/"
        },
        "id": "io9HG4PnGaRC",
        "outputId": "24b11b9f-4fdf-45c6-ff8d-a46913123de8"
      },
      "execution_count": null,
      "outputs": [
        {
          "output_type": "stream",
          "name": "stdout",
          "text": [
            "+-------------+--------+----------+--------+-----------------+---------+--------------------+-------+--------+------------+---------+-----------------+----------------------+--------------------+--------------------+---------------+\n",
            "|department_id|aisle_id|product_id|order_id|add_to_cart_order|reordered|pedido_anteriormente|user_id|eval_set|order_number|order_dow|order_hour_of_day|days_since_prior_order|        product_name|               aisle|     department|\n",
            "+-------------+--------+----------+--------+-----------------+---------+--------------------+-------+--------+------------+---------+-----------------+----------------------+--------------------+--------------------+---------------+\n",
            "|           16|     120|     33754|       3|                1|        1|                 Sim| 205970|   prior|          16|        5|               17|                  12.0|Total 2% with Str...|              yogurt|     dairy eggs|\n",
            "|           16|      91|     24838|       3|                2|        1|                 Sim| 205970|   prior|          16|        5|               17|                  12.0|Unsweetened Almon...|     soy lactosefree|     dairy eggs|\n",
            "|            4|     123|     17704|       3|                3|        1|                 Sim| 205970|   prior|          16|        5|               17|                  12.0|              Lemons|packaged vegetabl...|        produce|\n",
            "|            4|     123|     21903|       3|                4|        1|                 Sim| 205970|   prior|          16|        5|               17|                  12.0|Organic Baby Spinach|packaged vegetabl...|        produce|\n",
            "|           16|      91|     17668|       3|                5|        1|                 Sim| 205970|   prior|          16|        5|               17|                  12.0|Unsweetened Choco...|     soy lactosefree|     dairy eggs|\n",
            "|            4|      83|     46667|       3|                6|        1|                 Sim| 205970|   prior|          16|        5|               17|                  12.0| Organic Ginger Root|    fresh vegetables|        produce|\n",
            "|           12|      35|     17461|       3|                7|        1|                 Sim| 205970|   prior|          16|        5|               17|                  12.0|Air Chilled Organ...|     poultry counter|   meat seafood|\n",
            "|            3|     112|     32665|       3|                8|        1|                 Sim| 205970|   prior|          16|        5|               17|                  12.0|Organic Ezekiel 4...|               bread|         bakery|\n",
            "|            4|      24|     13176|       5|                1|        1|                 Sim| 156122|   prior|          42|        6|               16|                   9.0|Bag of Organic Ba...|        fresh fruits|        produce|\n",
            "|           13|      89|     15005|       5|                2|        1|                 Sim| 156122|   prior|          42|        6|               16|                   9.0|Just Crisp, Parmesan|salad dressing to...|         pantry|\n",
            "|           20|       1|     47329|       5|                3|        1|                 Sim| 156122|   prior|          42|        6|               16|                   9.0|   Fresh Fruit Salad|prepared soups sa...|           deli|\n",
            "|            4|     123|     27966|       5|                4|        1|                 Sim| 156122|   prior|          42|        6|               16|                   9.0| Organic Raspberries|packaged vegetabl...|        produce|\n",
            "|           16|      84|     23909|       5|                5|        1|                 Sim| 156122|   prior|          42|        6|               16|                   9.0| 2% Reduced Fat Milk|                milk|     dairy eggs|\n",
            "|           17|      54|     48370|       5|                6|        1|                 Sim| 156122|   prior|          42|        6|               16|                   9.0|Sensitive Toilet ...|         paper goods|      household|\n",
            "|            7|     115|     13245|       5|                7|        1|                 Sim| 156122|   prior|          42|        6|               16|                   9.0|Natural Artesian ...|water seltzer spa...|      beverages|\n",
            "|            6|      33|      9633|       5|                8|        1|                 Sim| 156122|   prior|          42|        6|               16|                   9.0|   Matzos, Thin, Tea|        kosher foods|  international|\n",
            "|           12|      49|     27360|       5|                9|        1|                 Sim| 156122|   prior|          42|        6|               16|                   9.0|Boneless Skinless...|    packaged poultry|   meat seafood|\n",
            "|           16|      21|      6348|       5|               10|        1|                 Sim| 156122|   prior|          42|        6|               16|                   9.0|Mini Original Bab...|     packaged cheese|     dairy eggs|\n",
            "|            9|       4|     40878|       5|               11|        1|                 Sim| 156122|   prior|          42|        6|               16|                   9.0| Macaroni And Cheese|       instant foods|dry goods pasta|\n",
            "|            4|      32|      6184|       5|               12|        1|                 Sim| 156122|   prior|          42|        6|               16|                   9.0|         Clementines|    packaged produce|        produce|\n",
            "+-------------+--------+----------+--------+-----------------+---------+--------------------+-------+--------+------------+---------+-----------------+----------------------+--------------------+--------------------+---------------+\n",
            "only showing top 20 rows\n",
            "\n"
          ]
        }
      ]
    },
    {
      "cell_type": "markdown",
      "source": [
        "1) QUAL O NÚMERO DE PEDIDOS MAIS FREQUENTES ENTRE OS CLIENTES?"
      ],
      "metadata": {
        "id": "16P11CTIG5zr"
      }
    },
    {
      "cell_type": "code",
      "source": [
        "df_orders.show(5)"
      ],
      "metadata": {
        "colab": {
          "base_uri": "https://localhost:8080/"
        },
        "id": "lk4c4GLKOBDP",
        "outputId": "dffc9a0e-4ad4-4de9-87d7-a4726210b6d5"
      },
      "execution_count": null,
      "outputs": [
        {
          "output_type": "stream",
          "name": "stdout",
          "text": [
            "+--------+-------+--------+------------+---------+-----------------+----------------------+\n",
            "|order_id|user_id|eval_set|order_number|order_dow|order_hour_of_day|days_since_prior_order|\n",
            "+--------+-------+--------+------------+---------+-----------------+----------------------+\n",
            "| 2539329|      1|   prior|           1|        2|                8|                  null|\n",
            "| 2398795|      1|   prior|           2|        3|                7|                  15.0|\n",
            "|  473747|      1|   prior|           3|        3|               12|                  21.0|\n",
            "| 2254736|      1|   prior|           4|        4|                7|                  29.0|\n",
            "|  431534|      1|   prior|           5|        4|               15|                  28.0|\n",
            "+--------+-------+--------+------------+---------+-----------------+----------------------+\n",
            "only showing top 5 rows\n",
            "\n"
          ]
        }
      ]
    },
    {
      "cell_type": "code",
      "source": [
        "#              QUAL O NÚMERO DE PEDIDOS MAIS FREQUENTES ENTRE OS CLIENTES?\n",
        "qtd_compras_usuarios = df_orders.groupBy(F.col('user_id')).agg(F.count('order_number').alias('qtd_pedidos')).orderBy(F.col('user_id').asc())"
      ],
      "metadata": {
        "id": "tHd86Lt7Nfrt"
      },
      "execution_count": null,
      "outputs": []
    },
    {
      "cell_type": "code",
      "source": [
        "qtd_compras_usuarios.show(2)"
      ],
      "metadata": {
        "colab": {
          "base_uri": "https://localhost:8080/"
        },
        "id": "Iye2IWUqPc07",
        "outputId": "ecb9dbd0-ce13-4d99-88f3-4a358506bd2f"
      },
      "execution_count": null,
      "outputs": [
        {
          "output_type": "stream",
          "name": "stdout",
          "text": [
            "+-------+-----------+\n",
            "|user_id|qtd_pedidos|\n",
            "+-------+-----------+\n",
            "|      1|         11|\n",
            "|      2|         15|\n",
            "+-------+-----------+\n",
            "only showing top 2 rows\n",
            "\n"
          ]
        }
      ]
    },
    {
      "cell_type": "code",
      "source": [
        "qtd_compras_usuarios.groupBy('qtd_pedidos').agg(F.count('qtd_pedidos').alias('frequencia')).orderBy(F.col('frequencia').desc()).show(2)"
      ],
      "metadata": {
        "colab": {
          "base_uri": "https://localhost:8080/"
        },
        "id": "NQ81or82Pjx9",
        "outputId": "5424b16e-1f8f-49c4-c542-15af790752a5"
      },
      "execution_count": null,
      "outputs": [
        {
          "output_type": "stream",
          "name": "stdout",
          "text": [
            "+-----------+----------+\n",
            "|qtd_pedidos|frequencia|\n",
            "+-----------+----------+\n",
            "|          4|     23986|\n",
            "|          5|     19590|\n",
            "+-----------+----------+\n",
            "only showing top 2 rows\n",
            "\n"
          ]
        }
      ]
    },
    {
      "cell_type": "code",
      "source": [
        "df_orders.groupBy(F.col('order_number')).agg(F.count('order_number').alias('n de pedidos')).orderBy(F.col('n de pedidos').desc()).show()"
      ],
      "metadata": {
        "colab": {
          "base_uri": "https://localhost:8080/"
        },
        "id": "StjcWZI7MHp0",
        "outputId": "cd502008-ff01-4606-b3ba-9c9ae8799792"
      },
      "execution_count": null,
      "outputs": [
        {
          "output_type": "stream",
          "name": "stdout",
          "text": [
            "+------------+------------+\n",
            "|order_number|n de pedidos|\n",
            "+------------+------------+\n",
            "|           1|      206209|\n",
            "|           3|      206209|\n",
            "|           4|      206209|\n",
            "|           2|      206209|\n",
            "|           5|      182223|\n",
            "|           6|      162633|\n",
            "|           7|      146468|\n",
            "|           8|      132618|\n",
            "|           9|      120918|\n",
            "|          10|      110728|\n",
            "|          11|      101696|\n",
            "|          12|       93881|\n",
            "|          13|       86929|\n",
            "|          14|       80693|\n",
            "|          15|       75080|\n",
            "|          16|       69889|\n",
            "|          17|       65296|\n",
            "|          18|       61157|\n",
            "|          19|       57321|\n",
            "|          20|       53931|\n",
            "+------------+------------+\n",
            "only showing top 20 rows\n",
            "\n"
          ]
        }
      ]
    },
    {
      "cell_type": "code",
      "source": [
        "#QUANTIDADE DE PEDIDOS QUE MAIS APARECERAM\n",
        "df_orders.agg(F.mode('order_number').alias('moda')).show()"
      ],
      "metadata": {
        "colab": {
          "base_uri": "https://localhost:8080/"
        },
        "id": "247V674kNK15",
        "outputId": "f377f6f1-ddf9-4b2d-c806-b8a3436f7306"
      },
      "execution_count": null,
      "outputs": [
        {
          "output_type": "stream",
          "name": "stdout",
          "text": [
            "+----+\n",
            "|moda|\n",
            "+----+\n",
            "|   4|\n",
            "+----+\n",
            "\n"
          ]
        }
      ]
    },
    {
      "cell_type": "markdown",
      "source": [
        "2) QUAL O DIA DA SEMANA TEM O MAIOR NÚMERO DE PEDIDOS?\n",
        "   - Verifique também a quantidade de pedidos em cada dia da semana"
      ],
      "metadata": {
        "id": "BbRoNQhPJja3"
      }
    },
    {
      "cell_type": "code",
      "source": [
        "df_join.show(1)"
      ],
      "metadata": {
        "colab": {
          "base_uri": "https://localhost:8080/"
        },
        "id": "LVsPgC1zW5kf",
        "outputId": "367b3099-1475-4a65-aa90-6b1a9f4d11ff"
      },
      "execution_count": null,
      "outputs": [
        {
          "output_type": "stream",
          "name": "stdout",
          "text": [
            "+-------------+--------+----------+--------+-----------------+---------+--------------------+-------+--------+------------+---------+-----------------+----------------------+--------------------+------+----------+\n",
            "|department_id|aisle_id|product_id|order_id|add_to_cart_order|reordered|pedido_anteriormente|user_id|eval_set|order_number|order_dow|order_hour_of_day|days_since_prior_order|        product_name| aisle|department|\n",
            "+-------------+--------+----------+--------+-----------------+---------+--------------------+-------+--------+------------+---------+-----------------+----------------------+--------------------+------+----------+\n",
            "|           16|     120|     33754|       3|                1|        1|                 Sim| 205970|   prior|          16|        5|               17|                  12.0|Total 2% with Str...|yogurt|dairy eggs|\n",
            "+-------------+--------+----------+--------+-----------------+---------+--------------------+-------+--------+------------+---------+-----------------+----------------------+--------------------+------+----------+\n",
            "only showing top 1 row\n",
            "\n"
          ]
        }
      ]
    },
    {
      "cell_type": "code",
      "source": [
        "df_pedidos = df_orders.groupBy(F.col('order_dow')).agg(F.count('order_dow').alias('qtd_pedidos')).orderBy(F.col('qtd_pedidos').desc())"
      ],
      "metadata": {
        "id": "I0rvJRG6TN-2"
      },
      "execution_count": null,
      "outputs": []
    },
    {
      "cell_type": "code",
      "source": [
        "#dias_semana - CRIAR UMA LISTA COM DIAS DA SEMANA (0-6)\n",
        "#total_pedidos - LISTA DA QUANTIDADE DE PEDIDOS POR DIA DA SEMANA\n",
        "dias_semana = list(range(0, 7))\n",
        "total_pedidos = []\n",
        "\n",
        "for i in range(7):\n",
        "  total_pedidos.append(df_orders.filter(F.col('order_dow') == i).count())\n",
        "'''\n",
        "total_pedidos = [df_orders.filter(F.col('order_dow') == 0).count(),\n",
        "                 df_orders.filter(F.col('order_dow') == 1).count(),\n",
        "                 df_orders.filter(F.col('order_dow') == 2).count(),\n",
        "                 df_orders.filter(F.col('order_dow') == 3).count(),\n",
        "                 df_orders.filter(F.col('order_dow') == 4).count(),\n",
        "                 df_orders.filter(F.col('order_dow') == 5).count(),\n",
        "                 df_orders.filter(F.col('order_dow') == 6).count()]\n",
        "'''\n",
        "print(total_pedidos)"
      ],
      "metadata": {
        "colab": {
          "base_uri": "https://localhost:8080/"
        },
        "id": "sgH7z4JIWI4D",
        "outputId": "711186ce-1eb8-4a0d-dc51-19a426249d9f"
      },
      "execution_count": null,
      "outputs": [
        {
          "output_type": "stream",
          "name": "stdout",
          "text": [
            "[600905, 587478, 467260, 436972, 426339, 453368, 448761]\n"
          ]
        }
      ]
    },
    {
      "cell_type": "code",
      "source": [
        "# Plot\n",
        "plt.figure(figsize = (10,5))\n",
        "plt.bar(dias_semana,total_pedidos, color = 'slateblue')\n",
        "plt.xlabel('Dia da Semana', fontsize = 14, fontweight = 'bold')\n",
        "plt.ylabel('Frequência', fontsize = 14, fontweight = 'bold')\n",
        "plt.xticks(dias_semana,['Domingo', 'Segunda', 'Terça', 'Quarta', 'Quinta', 'Sexta', 'Sábado'], rotation = 'vertical')\n",
        "plt.show()"
      ],
      "metadata": {
        "colab": {
          "base_uri": "https://localhost:8080/",
          "height": 519
        },
        "id": "VtkPhjb0WEvj",
        "outputId": "4e4becfd-de60-4db8-df0a-4631853d8e35"
      },
      "execution_count": null,
      "outputs": [
        {
          "output_type": "display_data",
          "data": {
            "text/plain": [
              "<Figure size 1000x500 with 1 Axes>"
            ],
            "image/png": "[encoded data removed]"
          },
          "metadata": {}
        }
      ]
    },
    {
      "cell_type": "markdown",
      "source": [
        "3) QUAL HORA DO DIA TEM O MAIOR NÚMERO DE PEDIDOS?"
      ],
      "metadata": {
        "id": "LU4AjMNcahsn"
      }
    },
    {
      "cell_type": "code",
      "source": [
        "\n",
        "df_orders.groupBy(F.col('order_hour_of_day')).agg(F.count('order_hour_of_day').alias('qtd_pedidos')).orderBy(F.col('qtd_pedidos').desc()).show()"
      ],
      "metadata": {
        "colab": {
          "base_uri": "https://localhost:8080/"
        },
        "id": "N9uiD7Zlc05f",
        "outputId": "2b13d0e9-54af-4382-9ee1-1c72af68140a"
      },
      "execution_count": null,
      "outputs": [
        {
          "output_type": "stream",
          "name": "stdout",
          "text": [
            "+-----------------+-----------+\n",
            "|order_hour_of_day|qtd_pedidos|\n",
            "+-----------------+-----------+\n",
            "|               10|     288418|\n",
            "|               11|     284728|\n",
            "|               15|     283639|\n",
            "|               14|     283042|\n",
            "|               13|     277999|\n",
            "|               12|     272841|\n",
            "|               16|     272553|\n",
            "|                9|     257812|\n",
            "|               17|     228795|\n",
            "|               18|     182912|\n",
            "|                8|     178201|\n",
            "|               19|     140569|\n",
            "|               20|     104292|\n",
            "|                7|      91868|\n",
            "|               21|      78109|\n",
            "|               22|      61468|\n",
            "|               23|      40043|\n",
            "|                6|      30529|\n",
            "|                0|      22758|\n",
            "|                1|      12398|\n",
            "+-----------------+-----------+\n",
            "only showing top 20 rows\n",
            "\n"
          ]
        }
      ]
    },
    {
      "cell_type": "markdown",
      "source": [
        "3) QUAL HORA DO DIA TEM O MAIOR NÚMERO DE PEDIDOS?"
      ],
      "metadata": {
        "id": "9eB8rlbMWuU9"
      }
    },
    {
      "cell_type": "code",
      "source": [
        "lista_horas = list(range(0, 24))\n",
        "qtd_pedidos = []\n",
        "\n",
        "for i in range(24):\n",
        "  qtd_pedidos.append(df_orders.filter(F.col('order_hour_of_day') == i).count())"
      ],
      "metadata": {
        "id": "-6iqwVlNdo1i"
      },
      "execution_count": null,
      "outputs": []
    },
    {
      "cell_type": "code",
      "source": [
        "# Plot\n",
        "plt.figure(figsize = (20,5))\n",
        "plt.bar(lista_horas,qtd_pedidos,color = 'forestgreen')\n",
        "plt.xticks(np.arange(0,24,1))\n",
        "plt.xlabel('Hora do Dia', fontsize = 14, fontweight = 'bold')\n",
        "plt.ylabel('Frequência', fontsize = 14, fontweight = 'bold')\n",
        "plt.show()"
      ],
      "metadata": {
        "colab": {
          "base_uri": "https://localhost:8080/",
          "height": 306
        },
        "id": "hX9vhElEeJAM",
        "outputId": "355eb828-ecf4-4956-af9e-3c259b354f55"
      },
      "execution_count": null,
      "outputs": [
        {
          "output_type": "display_data",
          "data": {
            "text/plain": [
              "<Figure size 2000x500 with 1 Axes>"
            ],
            "image/png": "[encoded data removed]"
          },
          "metadata": {}
        }
      ]
    },
    {
      "cell_type": "markdown",
      "source": [
        "4) QUAL O DEPARTAMENTO TEM O MAIOR NÚMERO DE PEDIDOS?"
      ],
      "metadata": {
        "id": "4KVXj-zHVtvm"
      }
    },
    {
      "cell_type": "code",
      "source": [
        "df_departments.show(10)"
      ],
      "metadata": {
        "colab": {
          "base_uri": "https://localhost:8080/"
        },
        "id": "zZk7tl3FczDA",
        "outputId": "93ebe59c-b175-4026-cb1e-90c7badfd10d"
      },
      "execution_count": null,
      "outputs": [
        {
          "output_type": "stream",
          "name": "stdout",
          "text": [
            "+-------------+---------------+\n",
            "|department_id|     department|\n",
            "+-------------+---------------+\n",
            "|            1|         frozen|\n",
            "|            2|          other|\n",
            "|            3|         bakery|\n",
            "|            4|        produce|\n",
            "|            5|        alcohol|\n",
            "|            6|  international|\n",
            "|            7|      beverages|\n",
            "|            8|           pets|\n",
            "|            9|dry goods pasta|\n",
            "|           10|           bulk|\n",
            "+-------------+---------------+\n",
            "only showing top 10 rows\n",
            "\n"
          ]
        }
      ]
    },
    {
      "cell_type": "code",
      "source": [
        "df_prod_dep = df_products.join(df_departments, on=['department_id'], how='left')"
      ],
      "metadata": {
        "id": "cF19QAbhdVpc"
      },
      "execution_count": null,
      "outputs": []
    },
    {
      "cell_type": "code",
      "source": [
        "df_prod_dep.show()"
      ],
      "metadata": {
        "colab": {
          "base_uri": "https://localhost:8080/"
        },
        "id": "Tqt3j9uce9SW",
        "outputId": "5ff50b45-66ac-4bcc-b556-626dd735113a"
      },
      "execution_count": null,
      "outputs": [
        {
          "output_type": "stream",
          "name": "stdout",
          "text": [
            "+-------------+----------+--------------------+--------+---------------+\n",
            "|department_id|product_id|        product_name|aisle_id|     department|\n",
            "+-------------+----------+--------------------+--------+---------------+\n",
            "|           19|         1|Chocolate Sandwic...|      61|         snacks|\n",
            "|           13|         2|    All-Seasons Salt|     104|         pantry|\n",
            "|            7|         3|Robust Golden Uns...|      94|      beverages|\n",
            "|            1|         4|Smart Ones Classi...|      38|         frozen|\n",
            "|           13|         5|Green Chile Anyti...|       5|         pantry|\n",
            "|           11|         6|        Dry Nose Oil|      11|  personal care|\n",
            "|            7|         7|Pure Coconut Wate...|      98|      beverages|\n",
            "|            1|         8|Cut Russet Potato...|     116|         frozen|\n",
            "|           16|         9|Light Strawberry ...|     120|     dairy eggs|\n",
            "|            7|        10|Sparkling Orange ...|     115|      beverages|\n",
            "|            7|        11|   Peach Mango Juice|      31|      beverages|\n",
            "|            1|        12|Chocolate Fudge L...|     119|         frozen|\n",
            "|           11|        13|   Saline Nasal Mist|      11|  personal care|\n",
            "|           17|        14|Fresh Scent Dishw...|      74|      household|\n",
            "|           18|        15|Overnight Diapers...|      56|         babies|\n",
            "|           19|        16|Mint Chocolate Fl...|     103|         snacks|\n",
            "|           12|        17|   Rendered Duck Fat|      35|   meat seafood|\n",
            "|            1|        18|Pizza for One Sup...|      79|         frozen|\n",
            "|            9|        19|Gluten Free Quino...|      63|dry goods pasta|\n",
            "|            7|        20|Pomegranate Cranb...|      98|      beverages|\n",
            "+-------------+----------+--------------------+--------+---------------+\n",
            "only showing top 20 rows\n",
            "\n"
          ]
        }
      ]
    },
    {
      "cell_type": "code",
      "source": [
        "#4) QUAL O DEPARTAMENTO TEM O MAIOR NÚMERO DE PEDIDOS?\n",
        "#df_orders.groupBy(F.col('order_hour_of_day')).agg(F.count('order_hour_of_day').alias('qtd_pedidos')).orderBy(F.col('qtd_pedidos').desc()).show()\n",
        "df_prod_dep.groupBy(F.col('department_id')).agg(F.count('product_id').alias('qtd_prod')).orderBy(F.col('qtd_prod').desc()).show()"
      ],
      "metadata": {
        "colab": {
          "base_uri": "https://localhost:8080/"
        },
        "id": "7VA_0XUnebEW",
        "outputId": "8fd02ed0-12c9-4eb9-b3bb-46f50a1cc9f6"
      },
      "execution_count": null,
      "outputs": [
        {
          "output_type": "stream",
          "name": "stdout",
          "text": [
            "+-------------+--------+\n",
            "|department_id|qtd_prod|\n",
            "+-------------+--------+\n",
            "|           11|    6563|\n",
            "|           19|    6264|\n",
            "|           13|    5371|\n",
            "|            7|    4365|\n",
            "|            1|    4007|\n",
            "|           16|    3449|\n",
            "|           17|    3084|\n",
            "|           15|    2092|\n",
            "|            9|    1858|\n",
            "|            4|    1684|\n",
            "|            3|    1516|\n",
            "|           20|    1322|\n",
            "|           21|    1258|\n",
            "|            6|    1139|\n",
            "|           14|    1115|\n",
            "|           18|    1081|\n",
            "|            5|    1054|\n",
            "|            8|     972|\n",
            "|           12|     907|\n",
            "|            2|     548|\n",
            "+-------------+--------+\n",
            "only showing top 20 rows\n",
            "\n"
          ]
        }
      ]
    },
    {
      "cell_type": "markdown",
      "source": [
        "5 - QUAIS OS 20 PRINCIPAIS CORREDORES POR FREQUÊNCIA DE PEDIDOS?"
      ],
      "metadata": {
        "id": "Vh52J836gS4H"
      }
    },
    {
      "cell_type": "code",
      "source": [
        "df_aisles.show(5)"
      ],
      "metadata": {
        "colab": {
          "base_uri": "https://localhost:8080/"
        },
        "id": "9D0yKuTdin-2",
        "outputId": "389bfcde-e2b9-4fe1-c652-5267befe88c3"
      },
      "execution_count": null,
      "outputs": [
        {
          "output_type": "stream",
          "name": "stdout",
          "text": [
            "+--------+--------------------+\n",
            "|aisle_id|               aisle|\n",
            "+--------+--------------------+\n",
            "|       1|prepared soups sa...|\n",
            "|       2|   specialty cheeses|\n",
            "|       3| energy granola bars|\n",
            "|       4|       instant foods|\n",
            "|       5|marinades meat pr...|\n",
            "+--------+--------------------+\n",
            "only showing top 5 rows\n",
            "\n"
          ]
        }
      ]
    },
    {
      "cell_type": "code",
      "source": [
        "df_orders.show(1)"
      ],
      "metadata": {
        "colab": {
          "base_uri": "https://localhost:8080/"
        },
        "id": "L0m3NUcxkQQk",
        "outputId": "f7f55458-1064-4322-dbea-9970225caf80"
      },
      "execution_count": null,
      "outputs": [
        {
          "output_type": "stream",
          "name": "stdout",
          "text": [
            "+--------+-------+--------+------------+---------+-----------------+----------------------+\n",
            "|order_id|user_id|eval_set|order_number|order_dow|order_hour_of_day|days_since_prior_order|\n",
            "+--------+-------+--------+------------+---------+-----------------+----------------------+\n",
            "| 2539329|      1|   prior|           1|        2|                8|                  null|\n",
            "+--------+-------+--------+------------+---------+-----------------+----------------------+\n",
            "only showing top 1 row\n",
            "\n"
          ]
        }
      ]
    },
    {
      "cell_type": "code",
      "source": [
        "#qtd_compras_usuarios.groupBy('qtd_pedidos').\n",
        "#agg(F.count('qtd_pedidos').alias('frequencia')).orderBy(F.col('frequencia').desc()).show(2)\n",
        "df_join.groupBy( F.col('aisle')).agg(F.count('order_number').alias('n de pedidos')).orderBy(F.col('n de pedidos').desc()).show(truncate=False)"
      ],
      "metadata": {
        "id": "p9mPMef6kiyc",
        "colab": {
          "base_uri": "https://localhost:8080/"
        },
        "outputId": "9a7ffb3b-04f3-41aa-b51b-fba9fe8d26d8"
      },
      "execution_count": null,
      "outputs": [
        {
          "output_type": "stream",
          "name": "stdout",
          "text": [
            "+-----------------------------+------------+\n",
            "|aisle                        |n de pedidos|\n",
            "+-----------------------------+------------+\n",
            "|fresh fruits                 |860075      |\n",
            "|fresh vegetables             |806141      |\n",
            "|packaged vegetables fruits   |417259      |\n",
            "|yogurt                       |342320      |\n",
            "|packaged cheese              |231382      |\n",
            "|milk                         |209946      |\n",
            "|water seltzer sparkling water|197773      |\n",
            "|chips pretzels               |171458      |\n",
            "|soy lactosefree              |150912      |\n",
            "|bread                        |137707      |\n",
            "|refrigerated                 |135541      |\n",
            "|frozen produce               |123666      |\n",
            "|ice cream ice                |116941      |\n",
            "|crackers                     |107868      |\n",
            "|energy granola bars          |107376      |\n",
            "|eggs                         |107003      |\n",
            "|lunch meat                   |93002       |\n",
            "|frozen meals                 |91909       |\n",
            "|baby food formula            |90865       |\n",
            "|fresh herbs                  |88998       |\n",
            "+-----------------------------+------------+\n",
            "only showing top 20 rows\n",
            "\n"
          ]
        }
      ]
    },
    {
      "cell_type": "code",
      "source": [
        "df_join.agg(F.mode('aisle').alias('moda')).show()"
      ],
      "metadata": {
        "colab": {
          "base_uri": "https://localhost:8080/"
        },
        "id": "cyzfMhSYIaKe",
        "outputId": "dad1fd5e-d447-4fcd-fe72-4b1262fed5cf"
      },
      "execution_count": null,
      "outputs": [
        {
          "output_type": "stream",
          "name": "stdout",
          "text": [
            "+------------+\n",
            "|        moda|\n",
            "+------------+\n",
            "|fresh fruits|\n",
            "+------------+\n",
            "\n"
          ]
        }
      ]
    },
    {
      "cell_type": "markdown",
      "source": [
        "6 - QUAIS OS 20 PRINCIPAIS PRODUTOS POR FREQUÊNCIA DE PEDIDOS?"
      ],
      "metadata": {
        "id": "l8TI6jF1gYX7"
      }
    },
    {
      "cell_type": "code",
      "source": [
        "df_products_prior.show(3)"
      ],
      "metadata": {
        "colab": {
          "base_uri": "https://localhost:8080/"
        },
        "id": "dXnaQE_dJLfM",
        "outputId": "12e04ef8-9255-4927-fde3-c95582b913df"
      },
      "execution_count": null,
      "outputs": [
        {
          "output_type": "stream",
          "name": "stdout",
          "text": [
            "+--------+----------+-----------------+---------+--------------------+\n",
            "|order_id|product_id|add_to_cart_order|reordered|pedido_anteriormente|\n",
            "+--------+----------+-----------------+---------+--------------------+\n",
            "|       2|     33120|                1|        1|                 Sim|\n",
            "|       2|     28985|                2|        1|                 Sim|\n",
            "|       2|      9327|                3|        0|                 Nao|\n",
            "+--------+----------+-----------------+---------+--------------------+\n",
            "only showing top 3 rows\n",
            "\n"
          ]
        }
      ]
    },
    {
      "cell_type": "code",
      "source": [
        "df_products.show(3)"
      ],
      "metadata": {
        "colab": {
          "base_uri": "https://localhost:8080/"
        },
        "id": "OoGJ1SehKBcs",
        "outputId": "647df0db-1439-48c1-b944-23a6a3307647"
      },
      "execution_count": null,
      "outputs": [
        {
          "output_type": "stream",
          "name": "stdout",
          "text": [
            "+----------+--------------------+--------+-------------+\n",
            "|product_id|        product_name|aisle_id|department_id|\n",
            "+----------+--------------------+--------+-------------+\n",
            "|         1|Chocolate Sandwic...|      61|           19|\n",
            "|         2|    All-Seasons Salt|     104|           13|\n",
            "|         3|Robust Golden Uns...|      94|            7|\n",
            "+----------+--------------------+--------+-------------+\n",
            "only showing top 3 rows\n",
            "\n"
          ]
        }
      ]
    },
    {
      "cell_type": "code",
      "source": [
        "df_join.groupBy(F.col('product_name')).agg(F.count('order_number').alias('qtd de pedidos')).orderBy(F.col('qtd de pedidos').desc()).show(truncate=False)"
      ],
      "metadata": {
        "colab": {
          "base_uri": "https://localhost:8080/"
        },
        "id": "OWr24_mkI13I",
        "outputId": "831c66b1-e465-4616-95fe-15a0e9f99b80"
      },
      "execution_count": null,
      "outputs": [
        {
          "output_type": "stream",
          "name": "stdout",
          "text": [
            "+------------------------+--------------+\n",
            "|product_name            |qtd de pedidos|\n",
            "+------------------------+--------------+\n",
            "|Banana                  |111894        |\n",
            "|Bag of Organic Bananas  |89409         |\n",
            "|Organic Strawberries    |62730         |\n",
            "|Organic Baby Spinach    |56825         |\n",
            "|Organic Hass Avocado    |50366         |\n",
            "|Organic Avocado         |41385         |\n",
            "|Large Lemon             |35901         |\n",
            "|Strawberries            |33691         |\n",
            "|Limes                   |33088         |\n",
            "|Organic Whole Milk      |32428         |\n",
            "|Organic Raspberries     |32103         |\n",
            "|Organic Yellow Onion    |26618         |\n",
            "|Organic Garlic          |26053         |\n",
            "|Organic Zucchini        |24580         |\n",
            "|Organic Blueberries     |23624         |\n",
            "|Cucumber Kirby          |23014         |\n",
            "|Organic Fuji Apple      |21121         |\n",
            "|Organic Lemon           |20720         |\n",
            "|Apple Honeycrisp Organic|20184         |\n",
            "|Organic Grape Tomatoes  |19992         |\n",
            "+------------------------+--------------+\n",
            "only showing top 20 rows\n",
            "\n"
          ]
        }
      ]
    },
    {
      "cell_type": "markdown",
      "source": [
        "7 - ANÁLISE DE NOVOS PEDIDOS SEMELHANTES A PEDIDOS ANTERIORES (reorder)"
      ],
      "metadata": {
        "id": "Pc70rbmAgcCI"
      }
    },
    {
      "cell_type": "code",
      "source": [
        "df_products_prior.show(2)"
      ],
      "metadata": {
        "colab": {
          "base_uri": "https://localhost:8080/"
        },
        "id": "ery-bFX8OHQt",
        "outputId": "ec9e6723-35bf-4704-b5ab-f80de72765bb"
      },
      "execution_count": null,
      "outputs": [
        {
          "output_type": "stream",
          "name": "stdout",
          "text": [
            "+--------+----------+-----------------+---------+--------------------+\n",
            "|order_id|product_id|add_to_cart_order|reordered|pedido_anteriormente|\n",
            "+--------+----------+-----------------+---------+--------------------+\n",
            "|       2|     33120|                1|        1|                 Sim|\n",
            "|       2|     28985|                2|        1|                 Sim|\n",
            "+--------+----------+-----------------+---------+--------------------+\n",
            "only showing top 2 rows\n",
            "\n"
          ]
        }
      ]
    },
    {
      "cell_type": "code",
      "source": [
        "df_join.groupBy(F.col('product_name'), F.col('reordered')).agg(F.count('order_number').alias('qtd de pedidos')).orderBy(F.col('qtd de pedidos').desc()).show(truncate=False)"
      ],
      "metadata": {
        "colab": {
          "base_uri": "https://localhost:8080/"
        },
        "id": "-hGPnA-iLspn",
        "outputId": "afd4f855-5143-4fea-eb77-0dc6c9cff91c"
      },
      "execution_count": null,
      "outputs": [
        {
          "output_type": "stream",
          "name": "stdout",
          "text": [
            "+------------------------+---------+--------------+\n",
            "|product_name            |reordered|qtd de pedidos|\n",
            "+------------------------+---------+--------------+\n",
            "|Banana                  |1        |94302         |\n",
            "|Bag of Organic Bananas  |1        |74275         |\n",
            "|Organic Strawberries    |1        |48785         |\n",
            "|Organic Baby Spinach    |1        |43874         |\n",
            "|Organic Hass Avocado    |1        |40003         |\n",
            "|Organic Avocado         |1        |31291         |\n",
            "|Organic Whole Milk      |1        |26920         |\n",
            "|Large Lemon             |1        |24954         |\n",
            "|Organic Raspberries     |1        |24531         |\n",
            "|Strawberries            |1        |23491         |\n",
            "|Limes                   |1        |22464         |\n",
            "|Organic Yellow Onion    |1        |18586         |\n",
            "|Organic Garlic          |1        |17719         |\n",
            "|Banana                  |0        |17592         |\n",
            "|Organic Zucchini        |1        |16962         |\n",
            "|Cucumber Kirby          |1        |15936         |\n",
            "|Bag of Organic Bananas  |0        |15134         |\n",
            "|Organic Fuji Apple      |1        |14999         |\n",
            "|Organic Blueberries     |1        |14791         |\n",
            "|Apple Honeycrisp Organic|1        |14748         |\n",
            "+------------------------+---------+--------------+\n",
            "only showing top 20 rows\n",
            "\n"
          ]
        }
      ]
    },
    {
      "cell_type": "code",
      "source": [
        "df_join.groupBy(F.col('pedido_anteriormente')).agg(F.count('order_number').alias('qtd de pedidos')).orderBy(F.col('qtd de pedidos').desc()).show(truncate=False)"
      ],
      "metadata": {
        "colab": {
          "base_uri": "https://localhost:8080/"
        },
        "id": "2wH3iPB7Q8RI",
        "outputId": "b4256115-1580-43ef-e904-fe3eafd09ac3"
      },
      "execution_count": null,
      "outputs": [
        {
          "output_type": "stream",
          "name": "stdout",
          "text": [
            "+--------------------+--------------+\n",
            "|pedido_anteriormente|qtd de pedidos|\n",
            "+--------------------+--------------+\n",
            "|Sim                 |4508407       |\n",
            "|Nao                 |3142946       |\n",
            "+--------------------+--------------+\n",
            "\n"
          ]
        }
      ]
    },
    {
      "cell_type": "code",
      "source": [
        "df_join.groupBy(F.col('reordered')).agg(F.count('order_number').alias('qtd de pedidos')).orderBy(F.col('qtd de pedidos').desc()).show(truncate=False)"
      ],
      "metadata": {
        "colab": {
          "base_uri": "https://localhost:8080/"
        },
        "id": "5GdzteIyZfVV",
        "outputId": "a30bb02d-a444-4436-b908-01b22c1ce7a7"
      },
      "execution_count": null,
      "outputs": [
        {
          "output_type": "stream",
          "name": "stdout",
          "text": [
            "+---------+--------------+\n",
            "|reordered|qtd de pedidos|\n",
            "+---------+--------------+\n",
            "|1        |4508407       |\n",
            "|0        |3142946       |\n",
            "+---------+--------------+\n",
            "\n"
          ]
        }
      ]
    },
    {
      "cell_type": "markdown",
      "source": [
        "7 - ANÁLISE DE RECOMPRA(reorder) POR DEPARTAMENTO AO LONGO DO TEMPO"
      ],
      "metadata": {
        "id": "GFD2mC_lgf9G"
      }
    },
    {
      "cell_type": "code",
      "source": [
        "df_join.printSchema()"
      ],
      "metadata": {
        "colab": {
          "base_uri": "https://localhost:8080/"
        },
        "id": "d_s7wHhraXVO",
        "outputId": "86c4f690-243b-4d1e-8fb8-92a5b0fb1fe2"
      },
      "execution_count": null,
      "outputs": [
        {
          "output_type": "stream",
          "name": "stdout",
          "text": [
            "root\n",
            " |-- department_id: string (nullable = true)\n",
            " |-- aisle_id: string (nullable = true)\n",
            " |-- product_id: integer (nullable = true)\n",
            " |-- order_id: integer (nullable = true)\n",
            " |-- add_to_cart_order: integer (nullable = true)\n",
            " |-- reordered: integer (nullable = true)\n",
            " |-- pedido_anteriormente: string (nullable = true)\n",
            " |-- user_id: integer (nullable = true)\n",
            " |-- eval_set: string (nullable = true)\n",
            " |-- order_number: integer (nullable = true)\n",
            " |-- order_dow: integer (nullable = true)\n",
            " |-- order_hour_of_day: integer (nullable = true)\n",
            " |-- days_since_prior_order: double (nullable = true)\n",
            " |-- product_name: string (nullable = true)\n",
            " |-- aisle: string (nullable = true)\n",
            " |-- department: string (nullable = true)\n",
            "\n"
          ]
        }
      ]
    },
    {
      "cell_type": "code",
      "source": [
        "df_orders.groupBy(F.col('order_dow')).sum('order_number').orderBy(F.col('order_dow')).show()\n",
        "#F.sum('order_number').orderBy(F.col('order_number')).desc().show()"
      ],
      "metadata": {
        "colab": {
          "base_uri": "https://localhost:8080/"
        },
        "id": "q80wjkINuNER",
        "outputId": "cdd4fa83-42de-401e-800e-5cd78ba75bc8"
      },
      "execution_count": null,
      "outputs": [
        {
          "output_type": "stream",
          "name": "stdout",
          "text": [
            "+---------+-----------------+\n",
            "|order_dow|sum(order_number)|\n",
            "+---------+-----------------+\n",
            "|        0|          9561579|\n",
            "|        1|         10112765|\n",
            "|        2|          8136105|\n",
            "|        3|          7787341|\n",
            "|        4|          7677567|\n",
            "|        5|          8108367|\n",
            "|        6|          7304469|\n",
            "+---------+-----------------+\n",
            "\n"
          ]
        }
      ]
    },
    {
      "cell_type": "code",
      "source": [
        "df_recompra = df_join.groupBy(F.col('department'), F.col('order_dow'), F.col('order_hour_of_day')).agg(F.sum('reordered').alias(\"quantidade de recompra\")).orderBy(F.col('quantidade de recompra').desc())"
      ],
      "metadata": {
        "id": "KKp_VOv1yb9z"
      },
      "execution_count": null,
      "outputs": []
    },
    {
      "cell_type": "code",
      "source": [
        "df_recompra.show(3)"
      ],
      "metadata": {
        "colab": {
          "base_uri": "https://localhost:8080/"
        },
        "id": "fTH9w13N3f2k",
        "outputId": "2beb4fb2-bf55-4d8c-e7e9-7184fea84d38"
      },
      "execution_count": null,
      "outputs": [
        {
          "output_type": "stream",
          "name": "stdout",
          "text": [
            "+----------+---------+-----------------+----------------------+\n",
            "|department|order_dow|order_hour_of_day|quantidade de recompra|\n",
            "+----------+---------+-----------------+----------------------+\n",
            "|   produce|        0|               14|                 26642|\n",
            "|   produce|        0|               13|                 25943|\n",
            "|   produce|        0|               10|                 25718|\n",
            "+----------+---------+-----------------+----------------------+\n",
            "only showing top 3 rows\n",
            "\n"
          ]
        }
      ]
    },
    {
      "cell_type": "code",
      "source": [
        "df_recompra.withColumn('dias_semana', F.regexp_replace(F.col('order_dow'), '0', 'Domingo')"
      ],
      "metadata": {
        "id": "KR3q_GNdt90n"
      },
      "execution_count": null,
      "outputs": []
    },
    {
      "cell_type": "markdown",
      "source": [
        "8 - ANÁLISE DE REORDER E PEDIDOS - pessoas que compram determinado produto e compram novamente."
      ],
      "metadata": {
        "id": "nQpE8gaegkhL"
      }
    },
    {
      "cell_type": "markdown",
      "source": [
        "9) Análise de Reorder por Corredor\n"
      ],
      "metadata": {
        "id": "Bq9xaF5AgpOM"
      }
    },
    {
      "cell_type": "markdown",
      "source": [
        "10 - ANÁLISE DE REORDER POR CORREDOR - Total de Reorder por Corredor de Produtos Conseguimos ver os corredores que menos tiverem novos pedidos, e aqueles que tiveram mais novos pedidos."
      ],
      "metadata": {
        "id": "lJ2dgi67g3nO"
      }
    }
  ]
}